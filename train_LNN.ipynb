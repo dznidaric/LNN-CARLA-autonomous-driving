{
 "cells": [
  {
   "cell_type": "code",
   "execution_count": 1,
   "metadata": {},
   "outputs": [],
   "source": [
    "import numpy as np\n",
    "import tensorflow as tf\n",
    "import kerasncp as kncp\n",
    "from kerasncp.tf import LTCCell\n",
    "#from kerasncp.ltc_cell import LTCCell\n",
    "from kerasncp.wirings import NCP\n",
    "from keras.utils import plot_model\n",
    "from keras.models import Sequential"
   ]
  },
  {
   "cell_type": "code",
   "execution_count": 2,
   "metadata": {},
   "outputs": [
    {
     "name": "stdout",
     "output_type": "stream",
     "text": [
      "Skip Town02 and Town05\n"
     ]
    }
   ],
   "source": [
    "from config import GlobalConfig\n",
    "from data import CARLA_Data\n",
    "config = GlobalConfig(setting=\"02_05_withheld\")"
   ]
  },
  {
   "cell_type": "code",
   "execution_count": null,
   "metadata": {},
   "outputs": [],
   "source": [
    "train = CARLA_Data(root=config.train_data, config=config).data_generator()"
   ]
  },
  {
   "cell_type": "code",
   "execution_count": 3,
   "metadata": {},
   "outputs": [
    {
     "name": "stdout",
     "output_type": "stream",
     "text": [
      "100%|██████████| 65/65 [00:07<00:00,  8.57it/s]\n",
      "100%|██████████| 21/21 [00:02<00:00,  8.07it/s]\n"
     ]
    }
   ],
   "source": [
    "\n",
    "train_set = CARLA_Data(root=config.train_data, config=config).create_dataset()\n",
    "val_set = CARLA_Data(root=config.val_data, config=config).create_dataset()\n",
    "\n"
   ]
  },
  {
   "cell_type": "code",
   "execution_count": 4,
   "metadata": {},
   "outputs": [],
   "source": [
    "x_train = train_set.map(lambda data: data[\"rgb\"])\n",
    "y_train = train_set.map(lambda data: data[\"measurements\"])\n",
    "\n",
    "x_val = val_set.map(lambda data: data[\"rgb\"])\n",
    "y_val = val_set.map(lambda data: data[\"measurements\"])\n"
   ]
  },
  {
   "cell_type": "code",
   "execution_count": null,
   "metadata": {},
   "outputs": [],
   "source": [
    "\n",
    "for rgb in x_train.take(100):\n",
    "    print(\"Input:\", rgb.shape)"
   ]
  },
  {
   "cell_type": "code",
   "execution_count": null,
   "metadata": {},
   "outputs": [],
   "source": [
    "\n",
    "for x, y in zip(x_val.take(1), y_val.take(1)):\n",
    "    print(\"Input shape:\", x.shape)\n",
    "    print(\"Output shape:\", y.shape)"
   ]
  },
  {
   "cell_type": "code",
   "execution_count": 11,
   "metadata": {},
   "outputs": [],
   "source": [
    "from keras.layers import (\n",
    "    Lambda,\n",
    "    Conv2D,\n",
    "    Dropout,\n",
    "    Dense,\n",
    "    Flatten,\n",
    "    Reshape,\n",
    "    RNN,\n",
    "    Input,\n",
    "    Add,\n",
    "    MaxPool2D,\n",
    "    InputLayer,\n",
    "    LSTM,\n",
    "    TimeDistributed,\n",
    "    Activation\n",
    ")\n",
    "from ncps import wirings\n",
    "import seaborn as sns\n",
    "import matplotlib.pyplot as plt\n",
    "\n",
    "from tensorflow.keras.optimizers import Adam\n",
    "from tensorflow.keras.losses import MeanSquaredError"
   ]
  },
  {
   "cell_type": "markdown",
   "metadata": {},
   "source": [
    "wiring and model based on Convolutions"
   ]
  },
  {
   "cell_type": "code",
   "execution_count": 6,
   "metadata": {},
   "outputs": [],
   "source": [
    "\n",
    "\"\"\"\n",
    "Define the Keras sequential CNN-NCP hybrid architecture.\n",
    "\n",
    "A CNN feature extractor is stacked with an NCP RNN temporal modelling structure.\n",
    "\n",
    ":return: the CNN-NCP model\n",
    "\"\"\"\n",
    "\n",
    "# Set the NCP wiring\n",
    "wiring = NCP(\n",
    "    inter_neurons=12,  # Number of inter neurons\n",
    "    command_neurons=8,  # Number of command neurons\n",
    "    motor_neurons=1,  # Number of motor neurons\n",
    "    sensory_fanout=4,  # How many outgoing synapses has each sensory neuron\n",
    "    inter_fanout=4,  # How many outgoing synapses has each inter neuron\n",
    "    recurrent_command_synapses=4,  # How many recurrent synapses are in the command neuron layer\n",
    "    motor_fanin=6,  # How many incoming synapses has each motor neuron\n",
    ")\n",
    "\n"
   ]
  },
  {
   "cell_type": "code",
   "execution_count": 12,
   "metadata": {},
   "outputs": [],
   "source": [
    "# Create the the NCP cell based on the LTC neuron.\n",
    "ncp_cell = LTCCell(wiring)\n",
    "\n",
    "# Build the sequential hybrid model\n",
    "model = Sequential(\n",
    "    [\n",
    "        Conv2D(24, 5, 2, padding='same', activation=\"relu\", input_shape=(160, 704, 3)),\n",
    "        Conv2D(36, 5, 2, activation=\"relu\"),\n",
    "        Conv2D(48, 5, 2, activation=\"relu\"),\n",
    "        Conv2D(64, 3, activation=\"relu\"),\n",
    "        Conv2D(64, 3, activation=\"relu\"),\n",
    "        Dropout(0.5),\n",
    "        Flatten(),\n",
    "        Dense(100, activation=\"relu\"),\n",
    "        Reshape((1, -1)),\n",
    "        RNN(ncp_cell, unroll=True),\n",
    "    ]\n",
    ")\n",
    "\n",
    "model.compile(\n",
    "    optimizer=Adam(0.01), loss=MeanSquaredError() , metrics=[\"mean_squared_error\"]\n",
    ")\n",
    "\n",
    "#model.summary()\n",
    "# plot_model(model, show_shapes=True)\n",
    "# return model"
   ]
  },
  {
   "cell_type": "code",
   "execution_count": 8,
   "metadata": {},
   "outputs": [
    {
     "ename": "AttributeError",
     "evalue": "'Sequential' object has no attribute 'evaluate_ge'",
     "output_type": "error",
     "traceback": [
      "\u001b[1;31m---------------------------------------------------------------------------\u001b[0m",
      "\u001b[1;31mAttributeError\u001b[0m                            Traceback (most recent call last)",
      "Cell \u001b[1;32mIn[8], line 1\u001b[0m\n\u001b[1;32m----> 1\u001b[0m model\u001b[39m.\u001b[39;49mevaluate_ge(x_val, y_val)\n",
      "\u001b[1;31mAttributeError\u001b[0m: 'Sequential' object has no attribute 'evaluate_ge'"
     ]
    }
   ],
   "source": [
    "model.evaluate_ge(x_val, y_val)"
   ]
  },
  {
   "cell_type": "code",
   "execution_count": null,
   "metadata": {},
   "outputs": [],
   "source": [
    "hist = model.fit_generator(train_set, epochs=3, validation_data=val_set)"
   ]
  },
  {
   "cell_type": "code",
   "execution_count": null,
   "metadata": {},
   "outputs": [],
   "source": [
    "sns.set_style(\"white\")\n",
    "plt.figure(figsize=(30, 25))\n",
    "legend_handles = ncp_cell.draw_graph(layout='shell',neuron_colors={\"command\": \"tab:cyan\"})\n",
    "plt.legend(handles=legend_handles, loc=\"upper center\", bbox_to_anchor=(1, 1))\n",
    "sns.despine(left=True, bottom=True)\n",
    "plt.tight_layout()\n",
    "plt.show()"
   ]
  },
  {
   "cell_type": "code",
   "execution_count": null,
   "metadata": {},
   "outputs": [],
   "source": [
    "ncp_wiring = kncp.wirings.NCP(\n",
    "    inter_neurons=20,  # Number of inter neurons\n",
    "    command_neurons=10,  # Number of command neurons\n",
    "    motor_neurons=5,  # Number of motor neurons\n",
    "    sensory_fanout=4,  # How many outgoing synapses has each sensory neuron\n",
    "    inter_fanout=5,  # How many outgoing synapses has each inter neuron\n",
    "    recurrent_command_synapses=6,  # Now many recurrent synapses are in the\n",
    "    # command neuron layer\n",
    "    motor_fanin=4,  # How many incoming synapses has each motor neuron\n",
    ")\n",
    "ncp_cell_time = LTCCell(\n",
    "    ncp_wiring,\n",
    "    initialization_ranges={\n",
    "        # Overwrite some of the initialization ranges\n",
    "        \"w\": (0.2, 2.0),\n",
    "    },\n",
    ")"
   ]
  },
  {
   "cell_type": "code",
   "execution_count": null,
   "metadata": {},
   "outputs": [],
   "source": [
    "time_d_model = Sequential(\n",
    "    [\n",
    "        InputLayer(input_shape=(None, 160, 704, 3)),\n",
    "        TimeDistributed(\n",
    "            Conv2D(32, (5, 5), activation=\"relu\")\n",
    "        ),\n",
    "        TimeDistributed(MaxPool2D()),\n",
    "        TimeDistributed(\n",
    "            Conv2D(64, (5, 5), activation=\"relu\")\n",
    "        ),\n",
    "        TimeDistributed(MaxPool2D()),\n",
    "        TimeDistributed(Flatten()),\n",
    "        TimeDistributed(Dense(32, activation=\"relu\")),\n",
    "        RNN(ncp_cell_time, return_sequences=True),\n",
    "        TimeDistributed(Activation(\"softmax\")),\n",
    "    ]\n",
    ")\n",
    "time_d_model.compile(\n",
    "    optimizer=Adam(0.01),\n",
    "    loss='sparse_categorical_crossentropy',\n",
    ")\n",
    "time_d_model.summary()"
   ]
  },
  {
   "cell_type": "code",
   "execution_count": null,
   "metadata": {},
   "outputs": [],
   "source": [
    "sns.set_style(\"white\")\n",
    "plt.figure(figsize=(10,10))\n",
    "legend_handles = ncp_cell_time.draw_graph(layout='spiral',neuron_colors={\"command\": \"tab:cyan\"})\n",
    "plt.legend(handles=legend_handles, loc=\"upper center\", bbox_to_anchor=(1, 1))\n",
    "sns.despine(left=True, bottom=True)\n",
    "plt.tight_layout()\n",
    "plt.show()"
   ]
  }
 ],
 "metadata": {
  "kernelspec": {
   "display_name": "myenv",
   "language": "python",
   "name": "python3"
  },
  "language_info": {
   "codemirror_mode": {
    "name": "ipython",
    "version": 3
   },
   "file_extension": ".py",
   "mimetype": "text/x-python",
   "name": "python",
   "nbconvert_exporter": "python",
   "pygments_lexer": "ipython3",
   "version": "3.8.17"
  },
  "orig_nbformat": 4
 },
 "nbformat": 4,
 "nbformat_minor": 2
}
