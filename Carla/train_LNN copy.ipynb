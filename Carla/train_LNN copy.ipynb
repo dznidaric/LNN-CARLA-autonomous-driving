{
 "cells": [
  {
   "cell_type": "code",
   "execution_count": null,
   "metadata": {},
   "outputs": [],
   "source": [
    "import numpy as np\n",
    "import time\n",
    "import tensorflow as tf\n",
    "import kerasncp as kncp\n",
    "from kerasncp.tf import LTCCell\n",
    "\n",
    "# from kerasncp.ltc_cell import LTCCell\n",
    "from kerasncp.wirings import NCP\n",
    "from keras.utils import plot_model\n",
    "from keras.models import Sequential\n",
    "from ncps.tf import LTC\n",
    "\n",
    "from keras.layers import (\n",
    "    Lambda,\n",
    "    Conv2D,\n",
    "    Conv3D,\n",
    "    Dropout,\n",
    "    Dense,\n",
    "    Flatten,\n",
    "    Reshape,\n",
    "    RNN,\n",
    "    Input,\n",
    "    Add,\n",
    "    MaxPool2D,\n",
    "    MaxPooling3D,\n",
    "    InputLayer,\n",
    "    LSTM,\n",
    "    TimeDistributed,\n",
    "    Activation,\n",
    ")\n",
    "from ncps import wirings\n",
    "import seaborn as sns\n",
    "import matplotlib.pyplot as plt\n",
    "\n",
    "from tensorflow.keras.optimizers import Adam\n",
    "from tensorflow.keras.losses import MeanSquaredError\n",
    "from tensorflow.keras.callbacks import TensorBoard"
   ]
  },
  {
   "cell_type": "code",
   "execution_count": null,
   "metadata": {},
   "outputs": [],
   "source": [
    "NAME = \"LTC-CNN3D-Carla-{}\".format(int(time.time()))"
   ]
  },
  {
   "cell_type": "code",
   "execution_count": null,
   "metadata": {},
   "outputs": [],
   "source": [
    "tensorboard = TensorBoard(log_dir=\"logs/{}\".format(NAME))"
   ]
  },
  {
   "cell_type": "code",
   "execution_count": 1,
   "metadata": {},
   "outputs": [
    {
     "name": "stdout",
     "output_type": "stream",
     "text": [
      "Skip Town02 and Town05\n"
     ]
    }
   ],
   "source": [
    "from config import GlobalConfig\n",
    "from data_2D import CARLA_Data\n",
    "config = GlobalConfig(setting=\"02_05_withheld\")"
   ]
  },
  {
   "cell_type": "code",
   "execution_count": 3,
   "metadata": {},
   "outputs": [
    {
     "name": "stdout",
     "output_type": "stream",
     "text": [
      "Epoch:  0\n",
      "Epoch:  1\n",
      "Epoch:  2\n",
      "Epoch:  3\n",
      "Epoch:  4\n",
      "Epoch:  5\n",
      "Epoch:  6\n",
      "Epoch:  7\n",
      "Epoch:  8\n",
      "Epoch:  9\n"
     ]
    }
   ],
   "source": [
    "for epoch in range(10):\n",
    "    print(\"Epoch: \", epoch)\n",
    "    train_set = CARLA_Data(\n",
    "        root=config.train_data, current_epoch=epoch, config=config\n",
    "    ).create_dataset()\n",
    "    val_set = CARLA_Data(\n",
    "        root=config.val_data, current_epoch=epoch, config=config\n",
    "    ).create_dataset()"
   ]
  },
  {
   "cell_type": "code",
   "execution_count": null,
   "metadata": {},
   "outputs": [],
   "source": [
    "train_set = CARLA_Data(root=config.train_data, config=config).data_generator()"
   ]
  },
  {
   "cell_type": "code",
   "execution_count": 4,
   "metadata": {},
   "outputs": [
    {
     "name": "stdout",
     "output_type": "stream",
     "text": [
      "kul\n",
      "kul\n",
      "kul\n",
      "kul\n",
      "kul\n",
      "kul\n",
      "kul\n",
      "kul\n",
      "kul\n",
      "kul\n",
      "kul\n",
      "kul\n",
      "kul\n",
      "kul\n",
      "kul\n",
      "kul\n",
      "kul\n",
      "kul\n",
      "kul\n",
      "kul\n",
      "kul\n",
      "kul\n",
      "kul\n",
      "kul\n",
      "kul\n",
      "kul\n",
      "kul\n",
      "kul\n",
      "kul\n",
      "kul\n",
      "kul\n",
      "kul\n",
      "kul\n",
      "kul\n",
      "kul\n",
      "kul\n",
      "kul\n",
      "kul\n",
      "kul\n",
      "kul\n",
      "kul\n",
      "kul\n",
      "kul\n",
      "kul\n",
      "kul\n",
      "kul\n",
      "kul\n",
      "kul\n",
      "kul\n",
      "kul\n",
      "kul\n",
      "kul\n",
      "kul\n",
      "kul\n",
      "kul\n",
      "kul\n",
      "kul\n",
      "kul\n",
      "kul\n",
      "kul\n",
      "kul\n",
      "kul\n",
      "kul\n",
      "kul\n",
      "kul\n",
      "kul\n",
      "kul\n",
      "kul\n",
      "kul\n",
      "kul\n",
      "kul\n",
      "kul\n",
      "kul\n",
      "kul\n",
      "kul\n",
      "kul\n",
      "kul\n",
      "kul\n",
      "kul\n",
      "kul\n",
      "kul\n",
      "kul\n",
      "kul\n",
      "kul\n",
      "kul\n",
      "kul\n",
      "kul\n",
      "kul\n",
      "kul\n",
      "kul\n",
      "kul\n",
      "kul\n",
      "kul\n",
      "kul\n",
      "kul\n",
      "kul\n",
      "kul\n",
      "kul\n",
      "kul\n",
      "kul\n",
      "kul\n",
      "kul\n",
      "kul\n",
      "kul\n",
      "kul\n",
      "kul\n",
      "kul\n",
      "kul\n",
      "kul\n",
      "kul\n",
      "kul\n",
      "kul\n",
      "kul\n",
      "kul\n",
      "kul\n",
      "kul\n",
      "kul\n"
     ]
    }
   ],
   "source": [
    "for sample in train_set.take(1).as_numpy_iterator():\n",
    "    print(sample[0].shape)\n",
    "    print(sample[1].shape)"
   ]
  },
  {
   "cell_type": "markdown",
   "metadata": {},
   "source": [
    "wiring and model based on Convolutions"
   ]
  },
  {
   "cell_type": "code",
   "execution_count": null,
   "metadata": {},
   "outputs": [],
   "source": [
    "\n",
    "\"\"\"\n",
    "Define the Keras sequential CNN-NCP hybrid architecture.\n",
    "\n",
    "A CNN feature extractor is stacked with an NCP RNN temporal modelling structure.\n",
    "\n",
    ":return: the CNN-NCP model\n",
    "\"\"\"\n",
    "\n",
    "# Set the NCP wiring\n",
    "wiring = NCP(\n",
    "    inter_neurons=12,  # Number of inter neurons\n",
    "    command_neurons=8,  # Number of command neurons\n",
    "    motor_neurons=4,  # Number of motor neurons\n",
    "    sensory_fanout=4,  # How many outgoing synapses has each sensory neuron\n",
    "    inter_fanout=4,  # How many outgoing synapses has each inter neuron\n",
    "    recurrent_command_synapses=4,  # How many recurrent synapses are in the command neuron layer\n",
    "    motor_fanin=6,  # How many incoming synapses has each motor neuron\n",
    ")\n",
    "# Create the the NCP cell based on the LTC neuron.\n",
    "ncp_cell = LTCCell(wiring)\n",
    "\n"
   ]
  },
  {
   "cell_type": "code",
   "execution_count": null,
   "metadata": {},
   "outputs": [],
   "source": [
    "wiring = wirings.AutoNCP(12,4)"
   ]
  },
  {
   "cell_type": "code",
   "execution_count": null,
   "metadata": {},
   "outputs": [],
   "source": [
    "model = Sequential()\n",
    "model.add(Conv3D(32, (3, 3, 3), activation='relu', input_shape=(10, 160, 704, 3), padding='same'))\n",
    "model.add(Conv3D(32, (3, 3, 3), activation='relu', padding='same'))\n",
    "model.add(MaxPooling3D(pool_size=(3, 3, 3), padding='same', data_format='channels_first'))\n",
    "model.add(Dropout(0.25))\n",
    "\n",
    "model.add(Conv3D(64, (3, 3, 3), activation='relu', padding='same'))\n",
    "model.add(Conv3D(64, (3, 3, 3), activation='relu', padding='same'))\n",
    "model.add(MaxPooling3D(pool_size=(3, 3, 3), padding='same', data_format='channels_first'))\n",
    "model.add(Dropout(0.25))\n",
    "\n",
    "model.add(TimeDistributed(Flatten()))\n",
    "#model.add(LSTM(512, return_sequences=True))\n",
    "model.add(Dense(100, activation='relu'))\n",
    "model.add(LTC(wiring, return_sequences=True))\n",
    "\n",
    "\n",
    "model.summary()"
   ]
  },
  {
   "cell_type": "code",
   "execution_count": null,
   "metadata": {},
   "outputs": [],
   "source": [
    "model.compile(\n",
    "    optimizer=Adam(0.01), loss=MeanSquaredError() , metrics=[\"mean_squared_error\"]\n",
    ")"
   ]
  },
  {
   "cell_type": "code",
   "execution_count": null,
   "metadata": {},
   "outputs": [],
   "source": [
    "plot_model(model, show_shapes=True)"
   ]
  },
  {
   "cell_type": "code",
   "execution_count": null,
   "metadata": {},
   "outputs": [],
   "source": [
    "hist = model.fit(train_set, epochs=3, validation_data=val_set, callbacks=[tensorboard])"
   ]
  },
  {
   "cell_type": "code",
   "execution_count": null,
   "metadata": {},
   "outputs": [],
   "source": [
    "\n",
    "# Build the sequential hybrid model\n",
    "model = Sequential(\n",
    "    [\n",
    "        Conv2D(24, 5, 2, padding='same', activation=\"relu\", input_shape=(160, 704, 3)),\n",
    "        Conv2D(36, 5, 2, activation=\"relu\"),\n",
    "        Conv2D(48, 5, 2, activation=\"relu\"),\n",
    "        Conv2D(64, 3, activation=\"relu\"),\n",
    "        Conv2D(64, 3, activation=\"relu\"),\n",
    "        Dropout(0.5),\n",
    "        Flatten(),\n",
    "        Dense(100, activation=\"relu\"),\n",
    "        Dense(100),\n",
    "        RNN(ncp_cell, unroll=True),\n",
    "    ]\n",
    ")\n",
    "\n",
    "model.compile(\n",
    "    optimizer=Adam(0.01), loss=MeanSquaredError() , metrics=[\"mean_squared_error\"]\n",
    ")\n",
    "\n",
    "#model.summary()\n",
    "# plot_model(model, show_shapes=True)\n",
    "# return model"
   ]
  },
  {
   "cell_type": "code",
   "execution_count": null,
   "metadata": {},
   "outputs": [],
   "source": [
    "model = Sequential([\n",
    "    Conv3D(32, (3, 3, 3), activation='relu', input_shape=(None, 160, 704, 3), padding='same'),\n",
    "    Conv3D(32, (3, 3, 3), activation='relu', padding='same'),\n",
    "    MaxPooling3D(pool_size=(3, 3, 3), padding='same'),\n",
    "    Dropout(0.25),\n",
    "\n",
    "    Conv3D(64, (3, 3, 3), activation='relu', padding='same'),\n",
    "    Conv3D(64, (3, 3, 3), activation='relu', padding='same'),\n",
    "    MaxPooling3D(pool_size=(3, 3, 3), padding='same'),\n",
    "    Dropout(0.25),\n",
    "\n",
    "    Flatten(),\n",
    "    Dense(512, activation='relu'),\n",
    "    RNN(ncp_cell, unroll=True),\n",
    "])"
   ]
  },
  {
   "cell_type": "code",
   "execution_count": null,
   "metadata": {},
   "outputs": [],
   "source": [
    "sns.set_style(\"white\")\n",
    "plt.figure(figsize=(30, 25))\n",
    "legend_handles = ncp_cell.draw_graph(layout='shell',neuron_colors={\"command\": \"tab:cyan\"})\n",
    "plt.legend(handles=legend_handles, loc=\"upper center\", bbox_to_anchor=(1, 1))\n",
    "sns.despine(left=True, bottom=True)\n",
    "plt.tight_layout()\n",
    "plt.show()"
   ]
  },
  {
   "cell_type": "code",
   "execution_count": null,
   "metadata": {},
   "outputs": [],
   "source": [
    "ncp_wiring = kncp.wirings.NCP(\n",
    "    inter_neurons=20,  # Number of inter neurons\n",
    "    command_neurons=10,  # Number of command neurons\n",
    "    motor_neurons=5,  # Number of motor neurons\n",
    "    sensory_fanout=4,  # How many outgoing synapses has each sensory neuron\n",
    "    inter_fanout=5,  # How many outgoing synapses has each inter neuron\n",
    "    recurrent_command_synapses=6,  # Now many recurrent synapses are in the\n",
    "    # command neuron layer\n",
    "    motor_fanin=4,  # How many incoming synapses has each motor neuron\n",
    ")\n",
    "ncp_cell_time = LTCCell(\n",
    "    ncp_wiring,\n",
    "    initialization_ranges={\n",
    "        # Overwrite some of the initialization ranges\n",
    "        \"w\": (0.2, 2.0),\n",
    "    },\n",
    ")"
   ]
  },
  {
   "cell_type": "code",
   "execution_count": null,
   "metadata": {},
   "outputs": [],
   "source": [
    "time_d_model = Sequential(\n",
    "    [\n",
    "        InputLayer(input_shape=(None, 160, 704, 3)),\n",
    "        TimeDistributed(\n",
    "            Conv2D(32, (5, 5), activation=\"relu\")\n",
    "        ),\n",
    "        TimeDistributed(MaxPool2D()),\n",
    "        TimeDistributed(\n",
    "            Conv2D(64, (5, 5), activation=\"relu\")\n",
    "        ),\n",
    "        TimeDistributed(MaxPool2D()),\n",
    "        TimeDistributed(Flatten()),\n",
    "        TimeDistributed(Dense(32, activation=\"relu\")),\n",
    "        RNN(ncp_cell_time, return_sequences=True),\n",
    "        TimeDistributed(Activation(\"softmax\")),\n",
    "    ]\n",
    ")\n",
    "time_d_model.compile(\n",
    "    optimizer=Adam(0.01),\n",
    "    loss='sparse_categorical_crossentropy',\n",
    ")\n",
    "time_d_model.summary()"
   ]
  },
  {
   "cell_type": "code",
   "execution_count": null,
   "metadata": {},
   "outputs": [],
   "source": [
    "sns.set_style(\"white\")\n",
    "plt.figure(figsize=(10,10))\n",
    "legend_handles = ncp_cell_time.draw_graph(layout='spiral',neuron_colors={\"command\": \"tab:cyan\"})\n",
    "plt.legend(handles=legend_handles, loc=\"upper center\", bbox_to_anchor=(1, 1))\n",
    "sns.despine(left=True, bottom=True)\n",
    "plt.tight_layout()\n",
    "plt.show()"
   ]
  }
 ],
 "metadata": {
  "kernelspec": {
   "display_name": "myenv",
   "language": "python",
   "name": "python3"
  },
  "language_info": {
   "codemirror_mode": {
    "name": "ipython",
    "version": 3
   },
   "file_extension": ".py",
   "mimetype": "text/x-python",
   "name": "python",
   "nbconvert_exporter": "python",
   "pygments_lexer": "ipython3",
   "version": "3.8.17"
  },
  "orig_nbformat": 4
 },
 "nbformat": 4,
 "nbformat_minor": 2
}
